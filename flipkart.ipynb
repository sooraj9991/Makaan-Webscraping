{
  "nbformat": 4,
  "nbformat_minor": 0,
  "metadata": {
    "colab": {
      "name": "flipkart.ipynb",
      "provenance": [],
      "authorship_tag": "ABX9TyMTLkCMGB4XUZCahcQDfi9J",
      "include_colab_link": true
    },
    "kernelspec": {
      "name": "python3",
      "display_name": "Python 3"
    },
    "language_info": {
      "name": "python"
    }
  },
  "cells": [
    {
      "cell_type": "markdown",
      "metadata": {
        "id": "view-in-github",
        "colab_type": "text"
      },
      "source": [
        "<a href=\"https://colab.research.google.com/github/sooraj9991/Makaan-Webscraping/blob/main/flipkart.ipynb\" target=\"_parent\"><img src=\"https://colab.research.google.com/assets/colab-badge.svg\" alt=\"Open In Colab\"/></a>"
      ]
    },
    {
      "cell_type": "code",
      "metadata": {
        "id": "ALJsOKEAW8Qw"
      },
      "source": [
        "import requests\n",
        "from bs4 import BeautifulSoup\n",
        "import pandas as pd\n",
        "import time"
      ],
      "execution_count": 40,
      "outputs": []
    },
    {
      "cell_type": "code",
      "metadata": {
        "id": "w8IsTza-0obg"
      },
      "source": [
        "base_url = 'https://www.flipkart.com/search?q=macbook&sid=6bo%2Cb5g&as=on&as-show=on&otracker=AS_QueryStore_OrganicAutoSuggest_1_3_na_na_na&otracker1=AS_QueryStore_OrganicAutoSuggest_1_3_na_na_na&as-pos=1&as-type=RECENT&suggestionId=macbook%7CLaptops&requestId=725f153c-36bb-478c-8f10-e54c60187a13&as-backfill=on&page='"
      ],
      "execution_count": 41,
      "outputs": []
    },
    {
      "cell_type": "code",
      "metadata": {
        "id": "jih_RGS41KeA"
      },
      "source": [
        "pd_name = []\n",
        "price =[]\n",
        "ratings = []\n",
        "warrenty = []\n",
        "ratingsno = []\n",
        "reviewsno = []\n",
        "features = []"
      ],
      "execution_count": 48,
      "outputs": []
    },
    {
      "cell_type": "code",
      "metadata": {
        "id": "fqNRtSUmzYK9"
      },
      "source": [
        "for i in range(1,3):\n",
        "  time.sleep(3)\n",
        "  req = requests.get(base_url+str(i))\n",
        "  soup = BeautifulSoup(req.text,'html')\n",
        "\n",
        "  #product name\n",
        "  pdt_name = soup.findAll('div',attrs={'class':'_4rR01T'})\n",
        "  [pd_name.append(i.text) for i in pdt_name]\n",
        "\n",
        "  #price\n",
        "  p = soup.findAll('div',attrs={'class':'_30jeq3 _1_WHN1'})\n",
        "  [price.append(i.text) for i in p]\n",
        "\n",
        "  #ratings\n",
        "  r = soup.findAll('div',attrs={'class':'gUuXy-'})\n",
        "  [ratings.append(i.span.div.text) for i in r]\n",
        "\n",
        "  #warrenty\n",
        "  wl = soup.findAll('ul',attrs={'class':'_1xgFaf'})\n",
        "  w = [i.findAll('li')[-1] for i in wl]\n",
        "  [warrenty.append(i.text) for i in w]\n",
        "\n",
        "  #number of ratings and reviews\n",
        "  a = soup.findAll('span',attrs={'class':'_2_R_DZ'})\n",
        "  for i in a:\n",
        "    a = i.text.split('&')\n",
        "    ratingsno.append(a[0].split(\" \")[0])\n",
        "    reviewsno.append(a[1].split(\" \")[0])\n",
        "\n",
        "  #features\n",
        "  prop = soup.findAll('ul',attrs={'class':'_1xgFaf'})\n",
        "  for i in prop:\n",
        "    a = i.findAll('li')[0:-2]\n",
        "    b =[i.text for i in a]\n",
        "    features.append(','.join(b))"
      ],
      "execution_count": 49,
      "outputs": []
    },
    {
      "cell_type": "code",
      "metadata": {
        "id": "jfj-mos3W-Y6"
      },
      "source": [
        "Data=pd.DataFrame({'Product':pd_name,\n",
        "                   'Price':price,\n",
        "                   'Ratings':ratings,\n",
        "                   'Warrenty':warrenty,\n",
        "                   'Ratings_Info':ratingsno,\n",
        "                   'Reviews_Info':reviewsno,\n",
        "                   'Features':features})"
      ],
      "execution_count": 50,
      "outputs": []
    },
    {
      "cell_type": "code",
      "metadata": {
        "id": "QlYrVgseW-cQ"
      },
      "source": [
        "Data"
      ],
      "execution_count": null,
      "outputs": []
    },
    {
      "cell_type": "code",
      "metadata": {
        "id": "OWWr2hwTW-fo"
      },
      "source": [
        "Data.to_csv('Flipkart MacBook.csv')"
      ],
      "execution_count": 52,
      "outputs": []
    },
    {
      "cell_type": "code",
      "metadata": {
        "id": "kXlKKhGGW-jg"
      },
      "source": [
        ""
      ],
      "execution_count": null,
      "outputs": []
    },
    {
      "cell_type": "code",
      "metadata": {
        "id": "_tklbExXW-qK"
      },
      "source": [
        ""
      ],
      "execution_count": null,
      "outputs": []
    },
    {
      "cell_type": "code",
      "metadata": {
        "id": "gmeswL7XW-xu"
      },
      "source": [
        ""
      ],
      "execution_count": null,
      "outputs": []
    },
    {
      "cell_type": "code",
      "metadata": {
        "id": "88j-2lCNW-15"
      },
      "source": [
        ""
      ],
      "execution_count": null,
      "outputs": []
    },
    {
      "cell_type": "code",
      "metadata": {
        "id": "q8zJkketW-6Q"
      },
      "source": [
        ""
      ],
      "execution_count": null,
      "outputs": []
    },
    {
      "cell_type": "code",
      "metadata": {
        "id": "K7QnCwu8W--D"
      },
      "source": [
        ""
      ],
      "execution_count": null,
      "outputs": []
    },
    {
      "cell_type": "code",
      "metadata": {
        "id": "pJFgnNLRW_B6"
      },
      "source": [
        ""
      ],
      "execution_count": null,
      "outputs": []
    },
    {
      "cell_type": "code",
      "metadata": {
        "id": "rgirWE_GW_Fo"
      },
      "source": [
        ""
      ],
      "execution_count": null,
      "outputs": []
    },
    {
      "cell_type": "code",
      "metadata": {
        "id": "fP7TPQYiW_MU"
      },
      "source": [
        ""
      ],
      "execution_count": null,
      "outputs": []
    },
    {
      "cell_type": "code",
      "metadata": {
        "id": "g9zJqxSCW_QE"
      },
      "source": [
        ""
      ],
      "execution_count": null,
      "outputs": []
    }
  ]
}