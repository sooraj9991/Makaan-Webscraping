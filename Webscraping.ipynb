{
  "nbformat": 4,
  "nbformat_minor": 0,
  "metadata": {
    "colab": {
      "name": "Webscraping.ipynb",
      "provenance": [],
      "authorship_tag": "ABX9TyNrKgWhzPLBwRQBMenHOhkl",
      "include_colab_link": true
    },
    "kernelspec": {
      "name": "python3",
      "display_name": "Python 3"
    },
    "language_info": {
      "name": "python"
    }
  },
  "cells": [
    {
      "cell_type": "markdown",
      "metadata": {
        "id": "view-in-github",
        "colab_type": "text"
      },
      "source": [
        "<a href=\"https://colab.research.google.com/github/sooraj9991/Makaan-Webscraping/blob/main/Webscraping.ipynb\" target=\"_parent\"><img src=\"https://colab.research.google.com/assets/colab-badge.svg\" alt=\"Open In Colab\"/></a>"
      ]
    },
    {
      "cell_type": "code",
      "metadata": {
        "id": "4RWw4dGqzj8m"
      },
      "source": [
        "import requests\n",
        "from bs4 import BeautifulSoup\n",
        "import pandas as pd\n",
        "import time\n",
        "from IPython.display import clear_output"
      ],
      "execution_count": 1,
      "outputs": []
    },
    {
      "cell_type": "code",
      "metadata": {
        "id": "t9zmXObDzz7J"
      },
      "source": [
        "\n",
        "base_url='https://www.makaan.com/hyderabad-residential-property/buy-property-in-hyderabad-city?page='\n",
        "\n",
        "Ow=[]\n",
        "bhk=[]\n",
        "Price_info=[]\n",
        "Ar=[]\n",
        "Loc=[]\n",
        "Cons_info=[]\n",
        "PPS=[]\n",
        "\n",
        "\n",
        "\n",
        "\n",
        "for i in range(1,51):\n",
        "\n",
        "  time.sleep(3)\n",
        "\n",
        "\n",
        "  print(f'Going to scrape data from {i} page')\n",
        "  clear_output(wait=True)\n",
        "  url=base_url+str(i)\n",
        "  req=requests.get(url)\n",
        "  soup=BeautifulSoup(req.text,'html')\n",
        "\n",
        "\n",
        "  #owner info\n",
        "  own_info=soup.findAll('span',attrs={'class':'seller-type'})\n",
        "  for j in own_info:\n",
        "    Ow.append(j.text)\n",
        "\n",
        "\n",
        "\n",
        "  #bhk info\n",
        "  bhk_inf=soup.findAll('div',attrs={'class':'title-line'})  \n",
        "  for j in bhk_inf:\n",
        "    bhk.append(j.strong.span.text)\n",
        "\n",
        "\n",
        "  #locality\n",
        "  locality=soup.findAll('span',attrs={'itemprop':'addressLocality'}) \n",
        "  for j in locality:\n",
        "    Loc.append(j.text)\n",
        "\n",
        "\n",
        "\n",
        "  #area\n",
        "  area=soup.findAll('td',attrs={'class':'size'})\n",
        "  for j in area:\n",
        "    Ar.append(j.text.strip())\n",
        "\n",
        "\n",
        "  #squarefeet\n",
        "  sq_ft=soup.findAll('td',attrs={'class':'lbl rate'})\n",
        "  for j in sq_ft:\n",
        "    PPS.append(j.text)\n",
        "\n",
        "\n",
        "\n",
        "  #construction status\n",
        "  construction=soup.findAll('td',attrs={'class':'val'})\n",
        "  for j in construction:\n",
        "    Cons_info.append(j.text)\n",
        "\n",
        "\n",
        "\n",
        "\n",
        "\n",
        "  #price\n",
        "  price=soup.findAll('div',attrs={'data-type':'price-link'})\n",
        "  for j in price:\n",
        "    Price_info.append(j.text.strip())\n",
        "\n",
        "    \n",
        "\n",
        "\n"
      ],
      "execution_count": null,
      "outputs": []
    },
    {
      "cell_type": "code",
      "metadata": {
        "id": "Yzvb_N9qzz_Y"
      },
      "source": [
        "Data=pd.DataFrame({'Owner_info':Ow,\n",
        "              'bhk_inf':bhk,\n",
        "              'Price':Price_info,\n",
        "              'Construction':Cons_info,\n",
        "              'square_feet':PPS,\n",
        "              'Locality':Loc,\n",
        "              'Area':Ar})"
      ],
      "execution_count": 4,
      "outputs": []
    },
    {
      "cell_type": "code",
      "metadata": {
        "id": "yzHidt3mz0G4"
      },
      "source": [
        "Data.to_csv('Hyderabad Apartments.csv',index=False)"
      ],
      "execution_count": 5,
      "outputs": []
    },
    {
      "cell_type": "code",
      "metadata": {
        "id": "5FtBsTEWz0ON"
      },
      "source": [
        ""
      ],
      "execution_count": null,
      "outputs": []
    },
    {
      "cell_type": "code",
      "metadata": {
        "id": "qq0f9GiDz0Rs"
      },
      "source": [
        ""
      ],
      "execution_count": null,
      "outputs": []
    },
    {
      "cell_type": "code",
      "metadata": {
        "id": "ZcVvGziiz0ZW"
      },
      "source": [
        ""
      ],
      "execution_count": null,
      "outputs": []
    }
  ]
}